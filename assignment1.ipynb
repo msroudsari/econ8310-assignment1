{
 "cells": [
  {
   "cell_type": "code",
   "execution_count": 12,
   "id": "098b2971-5d7a-4d7f-aec2-3400a31a72b0",
   "metadata": {},
   "outputs": [],
   "source": [
    "from pygam import LinearGAM, s, f, l\n",
    "import pandas as pd"
   ]
  },
  {
   "cell_type": "code",
   "execution_count": 13,
   "id": "ca1cdc2d-ba20-4fbe-9d08-4d3d3fb342ef",
   "metadata": {},
   "outputs": [],
   "source": [
    "data_train = pd.read_csv(\"https://github.com/dustywhite7/econ8310-assignment1/raw/main/assignment_data_train.csv\")\n",
    "data_test = pd.read_csv(\"https://github.com/dustywhite7/econ8310-assignment1/raw/main/assignment_data_test.csv\")"
   ]
  },
  {
   "cell_type": "code",
   "execution_count": 14,
   "id": "4338cb26-7b17-4350-a5e4-b70d467e8775",
   "metadata": {},
   "outputs": [],
   "source": [
    "x_train = data_train[['month','day','hour']]\n",
    "y_train = data_train['trips']"
   ]
  },
  {
   "cell_type": "code",
   "execution_count": 15,
   "id": "973ad1df-c324-4247-ba05-cf86740b496b",
   "metadata": {},
   "outputs": [
    {
     "name": "stderr",
     "output_type": "stream",
     "text": [
      "\u001b[38;2;0;255;0m100%\u001b[39m \u001b[38;2;0;255;0m(11 of 11)\u001b[39m |########################| Elapsed Time: 0:00:01 Time:  0:00:010:00\n"
     ]
    }
   ],
   "source": [
    "model = LinearGAM(s(0) + s(1) + s(2))\n",
    "modelFit = model.gridsearch(x_train.values, y_train)"
   ]
  },
  {
   "cell_type": "code",
   "execution_count": 16,
   "id": "ba844f07-2840-4928-8d0e-41345d897b52",
   "metadata": {},
   "outputs": [],
   "source": [
    "X_data_test = data_test[['month','day','hour']]\n",
    "y_pred = modelFit.predict(X_data_test)\n"
   ]
  },
  {
   "cell_type": "code",
   "execution_count": 17,
   "id": "c8e5a667-1ba5-45ab-80e8-cfb5cc139f4c",
   "metadata": {},
   "outputs": [
    {
     "name": "stderr",
     "output_type": "stream",
     "text": [
      "\u001b[38;2;0;255;0m100%\u001b[39m \u001b[38;2;0;255;0m(11 of 11)\u001b[39m |########################| Elapsed Time: 0:00:01 Time:  0:00:010:00\n"
     ]
    },
    {
     "ename": "NameError",
     "evalue": "name 'loaded_model' is not defined",
     "output_type": "error",
     "traceback": [
      "\u001b[1;31m---------------------------------------------------------------------------\u001b[0m",
      "\u001b[1;31mNameError\u001b[0m                                 Traceback (most recent call last)",
      "Cell \u001b[1;32mIn[17], line 20\u001b[0m\n\u001b[0;32m     16\u001b[0m modelFit \u001b[38;5;241m=\u001b[39m model\u001b[38;5;241m.\u001b[39mgridsearch(x_train, y_train)\n\u001b[0;32m     19\u001b[0m X_test \u001b[38;5;241m=\u001b[39m data_test[[\u001b[38;5;124m'\u001b[39m\u001b[38;5;124mmonth\u001b[39m\u001b[38;5;124m'\u001b[39m,\u001b[38;5;124m'\u001b[39m\u001b[38;5;124mday\u001b[39m\u001b[38;5;124m'\u001b[39m,\u001b[38;5;124m'\u001b[39m\u001b[38;5;124mhour\u001b[39m\u001b[38;5;124m'\u001b[39m]]\u001b[38;5;241m.\u001b[39mvalues\n\u001b[1;32m---> 20\u001b[0m y_pred \u001b[38;5;241m=\u001b[39m \u001b[43mloaded_model\u001b[49m\u001b[38;5;241m.\u001b[39mpredict(X_test)\n\u001b[0;32m     23\u001b[0m predictions_df \u001b[38;5;241m=\u001b[39m pd\u001b[38;5;241m.\u001b[39mDataFrame({\u001b[38;5;124m\"\u001b[39m\u001b[38;5;124mhour_index\u001b[39m\u001b[38;5;124m\"\u001b[39m: np\u001b[38;5;241m.\u001b[39marange(\u001b[38;5;28mlen\u001b[39m(y_pred)), \u001b[38;5;124m\"\u001b[39m\u001b[38;5;124mpredicted_trips\u001b[39m\u001b[38;5;124m\"\u001b[39m: y_pred})\n\u001b[0;32m     24\u001b[0m predictions_df\u001b[38;5;241m.\u001b[39mto_csv(\u001b[38;5;124m\"\u001b[39m\u001b[38;5;124mpredictions.csv\u001b[39m\u001b[38;5;124m\"\u001b[39m, index\u001b[38;5;241m=\u001b[39m\u001b[38;5;28;01mFalse\u001b[39;00m)\n",
      "\u001b[1;31mNameError\u001b[0m: name 'loaded_model' is not defined"
     ]
    }
   ],
   "source": [
    "import pandas as pd\n",
    "import numpy as np\n",
    "import pickle\n",
    "from pygam import LinearGAM, s\n",
    "\n",
    "\n",
    "data_train = pd.read_csv(\"https://github.com/dustywhite7/econ8310-assignment1/raw/main/assignment_data_train.csv\")\n",
    "data_test = pd.read_csv(\"https://github.com/dustywhite7/econ8310-assignment1/raw/main/assignment_data_test.csv\")\n",
    "\n",
    "\n",
    "x_train = data_train[['month','day','hour']].values\n",
    "y_train = data_train['trips'].values\n",
    "\n",
    "\n",
    "model = LinearGAM(s(0) + s(1) + s(2))\n",
    "modelFit = model.gridsearch(x_train, y_train)\n",
    "\n",
    "\n",
    "X_test = data_test[['month','day','hour']].values\n",
    "y_pred = loaded_model.predict(X_test)\n",
    "\n",
    "\n",
    "predictions_df = pd.DataFrame({\"hour_index\": np.arange(len(y_pred)), \"predicted_trips\": y_pred})\n",
    "predictions_df.to_csv(\"predictions.csv\", index=False)\n",
    "\n"
   ]
  },
  {
   "cell_type": "code",
   "execution_count": null,
   "id": "4ce77553-ac6b-4e31-9fa9-eb369625b747",
   "metadata": {},
   "outputs": [],
   "source": []
  }
 ],
 "metadata": {
  "kernelspec": {
   "display_name": "Python 3 (ipykernel)",
   "language": "python",
   "name": "python3"
  },
  "language_info": {
   "codemirror_mode": {
    "name": "ipython",
    "version": 3
   },
   "file_extension": ".py",
   "mimetype": "text/x-python",
   "name": "python",
   "nbconvert_exporter": "python",
   "pygments_lexer": "ipython3",
   "version": "3.12.7"
  }
 },
 "nbformat": 4,
 "nbformat_minor": 5
}

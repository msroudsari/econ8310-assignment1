{
 "cells": [
  {
   "cell_type": "code",
   "execution_count": 12,
   "id": "098b2971-5d7a-4d7f-aec2-3400a31a72b0",
   "metadata": {},
   "outputs": [],
   "source": [
    "from pygam import LinearGAM, s, f, l\n",
    "import pandas as pd"
   ]
  },
  {
   "cell_type": "code",
   "execution_count": 13,
   "id": "ca1cdc2d-ba20-4fbe-9d08-4d3d3fb342ef",
   "metadata": {},
   "outputs": [],
   "source": [
    "data_train = pd.read_csv(\"https://github.com/dustywhite7/econ8310-assignment1/raw/main/assignment_data_train.csv\")\n",
    "data_test = pd.read_csv(\"https://github.com/dustywhite7/econ8310-assignment1/raw/main/assignment_data_test.csv\")"
   ]
  },
  {
   "cell_type": "code",
   "execution_count": 14,
   "id": "4338cb26-7b17-4350-a5e4-b70d467e8775",
   "metadata": {},
   "outputs": [],
   "source": [
    "x_train = data_train[['month','day','hour']]\n",
    "y_train = data_train['trips']"
   ]
  },
  {
   "cell_type": "code",
   "execution_count": 15,
   "id": "973ad1df-c324-4247-ba05-cf86740b496b",
   "metadata": {},
   "outputs": [
    {
     "name": "stderr",
     "output_type": "stream",
     "text": [
      "\u001b[38;2;0;255;0m100%\u001b[39m \u001b[38;2;0;255;0m(11 of 11)\u001b[39m |########################| Elapsed Time: 0:00:01 Time:  0:00:010:00\n"
     ]
    }
   ],
   "source": [
    "model = LinearGAM(s(0) + s(1) + s(2))\n",
    "modelFit = model.gridsearch(x_train.values, y_train)"
   ]
  },
  {
   "cell_type": "code",
   "execution_count": 16,
   "id": "ba844f07-2840-4928-8d0e-41345d897b52",
   "metadata": {},
   "outputs": [],
   "source": [
    "X_data_test = data_test[['month','day','hour']]\n",
    "y_pred = modelFit.predict(X_data_test)\n"
   ]
  },
  {
   "cell_type": "code",
   "execution_count": null,
   "id": "c8e5a667-1ba5-45ab-80e8-cfb5cc139f4c",
   "metadata": {},
   "outputs": [],
   "source": []
  }
 ],
 "metadata": {
  "kernelspec": {
   "display_name": "Python 3 (ipykernel)",
   "language": "python",
   "name": "python3"
  },
  "language_info": {
   "codemirror_mode": {
    "name": "ipython",
    "version": 3
   },
   "file_extension": ".py",
   "mimetype": "text/x-python",
   "name": "python",
   "nbconvert_exporter": "python",
   "pygments_lexer": "ipython3",
   "version": "3.12.7"
  }
 },
 "nbformat": 4,
 "nbformat_minor": 5
}
